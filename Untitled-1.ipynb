{
 "cells": [
  {
   "cell_type": "code",
   "execution_count": 54,
   "metadata": {},
   "outputs": [],
   "source": [
    "import cv2\n",
    "import os\n",
    "import time\n",
    "import numpy as np\n",
    "import random\n",
    "from sklearn.preprocessing import OneHotEncoder"
   ]
  },
  {
   "cell_type": "code",
   "execution_count": 55,
   "metadata": {},
   "outputs": [],
   "source": [
    "class ddbdata_loader:\n",
    "    def __init__(self, data_path, image_size, classes):\n",
    "        self.data_path = data_path\n",
    "        self.image_size = image_size\n",
    "        self.classes = classes\n",
    "\n",
    "    def read_image(self, image_path):\n",
    "        image = cv2.imread(image_path)\n",
    "        resized_image = cv2.resize(image, self.image_size)\n",
    "        # try:\n",
    "        # except:\n",
    "        #     resized_image = image\n",
    "        return resized_image\n",
    "\n",
    "\n",
    "\n",
    "    @staticmethod\n",
    "    def one_hot_encode_it(vector):\n",
    "        vector = vector.reshape(-1, 1)\n",
    "        encoder = OneHotEncoder()\n",
    "        one_hot_encoded_vector = encoder.fit_transform(vector)\n",
    "        return one_hot_encoded_vector.toarray()\n",
    "\n",
    "    def load_data(self):\n",
    "        files = os.listdir(self.data_path)\n",
    "        ctr = 0\n",
    "        X_train, Y_train = [], []\n",
    "        err = 0\n",
    "        for f in files:\n",
    "            class_path = f\"{self.data_path}{f}/\"\n",
    "            files_per_class = os.listdir(class_path)\n",
    "            for img_f in files_per_class:\n",
    "                image_path = f\"{self.data_path}{f}/{img_f}\"\n",
    "                try:\n",
    "                    image = self.read_image(image_path)\n",
    "                    X_train.append(image)\n",
    "                    cls = self.classes.index(f)\n",
    "                    Y_train.append(cls)\n",
    "                except:\n",
    "                    err+=1\n",
    "                    print(\"err:\", err)\n",
    "                ctr += 1\n",
    "                if ctr % 100 == 0:\n",
    "                    print(f\"image read: {ctr}/{len(files_per_class)}\")\n",
    "        X_train = np.array(X_train)/255\n",
    "        Y_train = np.array(Y_train)/255\n",
    "        Y_train = self.one_hot_encode_it(Y_train)\n",
    "\n",
    "        # add randomization to both X_train and Y_Train\n",
    "        combined_data = list(zip(X_train,Y_train))\n",
    "        random.shuffle(combined_data)\n",
    "        X_train[:],Y_train[:]=zip(*combined_data)\n",
    "        return X_train, Y_train\n"
   ]
  },
  {
   "cell_type": "code",
   "execution_count": 56,
   "metadata": {},
   "outputs": [
    {
     "name": "stdout",
     "output_type": "stream",
     "text": [
      "['other_activities', 'safe_driving', 'talking_phone', 'texting_phone', 'turning']\n",
      "image read: 100/2128\n",
      "image read: 200/2128\n",
      "image read: 300/2128\n",
      "err: 1\n",
      "err: 2\n",
      "image read: 400/2128\n",
      "err: 3\n",
      "err: 4\n",
      "image read: 500/2128\n",
      "image read: 600/2128\n",
      "image read: 700/2128\n",
      "image read: 800/2128\n",
      "image read: 900/2128\n",
      "image read: 1000/2128\n",
      "err: 5\n",
      "image read: 1100/2128\n",
      "err: 6\n",
      "image read: 1200/2128\n",
      "image read: 1300/2128\n",
      "image read: 1400/2128\n",
      "image read: 1500/2128\n",
      "image read: 1600/2128\n",
      "err: 7\n",
      "image read: 1700/2128\n",
      "image read: 1800/2128\n",
      "image read: 1900/2128\n",
      "err: 8\n",
      "err: 9\n",
      "image read: 2000/2128\n",
      "image read: 2100/2128\n",
      "image read: 2200/2203\n",
      "image read: 2300/2203\n",
      "image read: 2400/2203\n",
      "image read: 2500/2203\n",
      "image read: 2600/2203\n",
      "image read: 2700/2203\n",
      "image read: 2800/2203\n",
      "image read: 2900/2203\n",
      "image read: 3000/2203\n",
      "image read: 3100/2203\n",
      "image read: 3200/2203\n",
      "image read: 3300/2203\n",
      "image read: 3400/2203\n",
      "image read: 3500/2203\n",
      "image read: 3600/2203\n",
      "image read: 3700/2203\n",
      "image read: 3800/2203\n",
      "image read: 3900/2203\n",
      "image read: 4000/2203\n",
      "image read: 4100/2203\n",
      "image read: 4200/2203\n",
      "image read: 4300/2203\n",
      "image read: 4400/2169\n",
      "image read: 4500/2169\n",
      "image read: 4600/2169\n",
      "image read: 4700/2169\n",
      "image read: 4800/2169\n",
      "image read: 4900/2169\n",
      "image read: 5000/2169\n",
      "image read: 5100/2169\n",
      "image read: 5200/2169\n",
      "image read: 5300/2169\n",
      "image read: 5400/2169\n",
      "image read: 5500/2169\n",
      "image read: 5600/2169\n",
      "image read: 5700/2169\n",
      "image read: 5800/2169\n",
      "image read: 5900/2169\n",
      "image read: 6000/2169\n",
      "image read: 6100/2169\n",
      "image read: 6200/2169\n",
      "image read: 6300/2169\n",
      "image read: 6400/2169\n",
      "image read: 6500/2169\n",
      "image read: 6600/2203\n",
      "image read: 6700/2203\n",
      "image read: 6800/2203\n",
      "image read: 6900/2203\n",
      "image read: 7000/2203\n",
      "image read: 7100/2203\n",
      "image read: 7200/2203\n",
      "image read: 7300/2203\n",
      "image read: 7400/2203\n",
      "image read: 7500/2203\n",
      "image read: 7600/2203\n",
      "image read: 7700/2203\n",
      "image read: 7800/2203\n",
      "image read: 7900/2203\n",
      "image read: 8000/2203\n",
      "image read: 8100/2203\n",
      "image read: 8200/2203\n",
      "image read: 8300/2203\n",
      "image read: 8400/2203\n",
      "image read: 8500/2203\n",
      "image read: 8600/2203\n",
      "image read: 8700/2203\n",
      "image read: 8800/2063\n",
      "err: 10\n",
      "image read: 8900/2063\n",
      "image read: 9000/2063\n",
      "image read: 9100/2063\n",
      "image read: 9200/2063\n",
      "image read: 9300/2063\n",
      "image read: 9400/2063\n",
      "image read: 9500/2063\n",
      "image read: 9600/2063\n",
      "image read: 9700/2063\n",
      "image read: 9800/2063\n",
      "image read: 9900/2063\n",
      "err: 11\n",
      "image read: 10000/2063\n",
      "err: 12\n",
      "err: 13\n",
      "image read: 10100/2063\n",
      "image read: 10200/2063\n",
      "image read: 10300/2063\n",
      "image read: 10400/2063\n",
      "err: 14\n",
      "image read: 10500/2063\n",
      "err: 15\n",
      "image read: 10600/2063\n",
      "image read: 10700/2063\n"
     ]
    }
   ],
   "source": [
    "start = time.time()\n",
    "data_path = \"C:/Users/MSI/Downloads/PFA/Revitsone-5classes/\"\n",
    "print (os.listdir(data_path))\n",
    "image_size = (100,100)\n",
    "classes = ['other_activities', 'safe_driving', 'talking_phone', 'texting_phone', 'turning']\n",
    "dl = ddbdata_loader(data_path, image_size, classes)\n",
    "X_train, Y_train = dl.load_data()"
   ]
  },
  {
   "cell_type": "code",
   "execution_count": 57,
   "metadata": {},
   "outputs": [],
   "source": [
    "from sklearn.model_selection import train_test_split\n",
    "\n",
    "# Divisez les données en ensembles d'entraînement et de test (80% pour l'entraînement, 20% pour les tests)\n",
    "X_train, X_test, Y_train, Y_test = train_test_split(X_train, Y_train, test_size=0.2, random_state=42)\n",
    "\n",
    "# Divisez à nouveau l'ensemble d'entraînement en ensembles d'entraînement et de validation (80% pour l'entraînement, 20% pour la validation)\n",
    "X_train, X_val, Y_train, Y_val = train_test_split(X_train, Y_train, test_size=0.2, random_state=42)\n",
    "\n"
   ]
  },
  {
   "cell_type": "code",
   "execution_count": 58,
   "metadata": {},
   "outputs": [
    {
     "name": "stdout",
     "output_type": "stream",
     "text": [
      "Nombre d'images dans l'ensemble d'entraînement: 6880\n",
      "Nombre d'images dans l'ensemble de validation: 1720\n",
      "Nombre d'images dans l'ensemble de test: 2151\n"
     ]
    }
   ],
   "source": [
    "print(\"Nombre d'images dans l'ensemble d'entraînement:\", len(X_train))\n",
    "print(\"Nombre d'images dans l'ensemble de validation:\", len(X_val))\n",
    "print(\"Nombre d'images dans l'ensemble de test:\", len(X_test))\n"
   ]
  },
  {
   "cell_type": "code",
   "execution_count": 59,
   "metadata": {},
   "outputs": [],
   "source": [
    "from keras.models import Sequential\n",
    "from keras.layers import Conv2D, MaxPooling2D, Flatten, Dense\n",
    "\n",
    "def create_simple_cnn(input_shape, num_classes):\n",
    "    # Création du modèle\n",
    "        model = Sequential()\n",
    "\n",
    "    # Ajout des couches\n",
    "        model.add(Conv2D(8, (3, 3), activation='relu', input_shape=input_shape))\n",
    "        model.add(MaxPooling2D((2, 2)))\n",
    "    \n",
    "        model.add(Conv2D(16, (3, 3), activation='relu'))\n",
    "        model.add(MaxPooling2D((2, 2)))\n",
    "        model.add(Conv2D(16, (3, 3), activation='relu'))\n",
    "        model.add(MaxPooling2D((2, 2)))\n",
    "    \n",
    "        model.add(Flatten())\n",
    "        model.add(Dense(16, activation='relu'))\n",
    "        model.add(Dense(num_classes, activation='softmax'))\n",
    "\n",
    "    # Compiler le modèle\n",
    "        model.compile(optimizer='adam', loss='categorical_crossentropy', metrics=['accuracy'])\n",
    "        return model\n",
    "    \n",
    "input_shape = (image_size[0], image_size[1], 3)\n",
    "num_classes = len(classes)\n"
   ]
  },
  {
   "cell_type": "code",
   "execution_count": 60,
   "metadata": {},
   "outputs": [
    {
     "name": "stderr",
     "output_type": "stream",
     "text": [
      "C:\\Users\\MSI\\AppData\\Roaming\\Python\\Python312\\site-packages\\keras\\src\\layers\\convolutional\\base_conv.py:99: UserWarning: Do not pass an `input_shape`/`input_dim` argument to a layer. When using Sequential models, prefer using an `Input(shape)` object as the first layer in the model instead.\n",
      "  super().__init__(\n"
     ]
    },
    {
     "data": {
      "text/html": [
       "<pre style=\"white-space:pre;overflow-x:auto;line-height:normal;font-family:Menlo,'DejaVu Sans Mono',consolas,'Courier New',monospace\"><span style=\"font-weight: bold\">Model: \"sequential_5\"</span>\n",
       "</pre>\n"
      ],
      "text/plain": [
       "\u001b[1mModel: \"sequential_5\"\u001b[0m\n"
      ]
     },
     "metadata": {},
     "output_type": "display_data"
    },
    {
     "data": {
      "text/html": [
       "<pre style=\"white-space:pre;overflow-x:auto;line-height:normal;font-family:Menlo,'DejaVu Sans Mono',consolas,'Courier New',monospace\">┏━━━━━━━━━━━━━━━━━━━━━━━━━━━━━━━━━┳━━━━━━━━━━━━━━━━━━━━━━━━┳━━━━━━━━━━━━━━━┓\n",
       "┃<span style=\"font-weight: bold\"> Layer (type)                    </span>┃<span style=\"font-weight: bold\"> Output Shape           </span>┃<span style=\"font-weight: bold\">       Param # </span>┃\n",
       "┡━━━━━━━━━━━━━━━━━━━━━━━━━━━━━━━━━╇━━━━━━━━━━━━━━━━━━━━━━━━╇━━━━━━━━━━━━━━━┩\n",
       "│ conv2d_15 (<span style=\"color: #0087ff; text-decoration-color: #0087ff\">Conv2D</span>)              │ (<span style=\"color: #00d7ff; text-decoration-color: #00d7ff\">None</span>, <span style=\"color: #00af00; text-decoration-color: #00af00\">98</span>, <span style=\"color: #00af00; text-decoration-color: #00af00\">98</span>, <span style=\"color: #00af00; text-decoration-color: #00af00\">8</span>)      │           <span style=\"color: #00af00; text-decoration-color: #00af00\">224</span> │\n",
       "├─────────────────────────────────┼────────────────────────┼───────────────┤\n",
       "│ max_pooling2d_15 (<span style=\"color: #0087ff; text-decoration-color: #0087ff\">MaxPooling2D</span>) │ (<span style=\"color: #00d7ff; text-decoration-color: #00d7ff\">None</span>, <span style=\"color: #00af00; text-decoration-color: #00af00\">49</span>, <span style=\"color: #00af00; text-decoration-color: #00af00\">49</span>, <span style=\"color: #00af00; text-decoration-color: #00af00\">8</span>)      │             <span style=\"color: #00af00; text-decoration-color: #00af00\">0</span> │\n",
       "├─────────────────────────────────┼────────────────────────┼───────────────┤\n",
       "│ conv2d_16 (<span style=\"color: #0087ff; text-decoration-color: #0087ff\">Conv2D</span>)              │ (<span style=\"color: #00d7ff; text-decoration-color: #00d7ff\">None</span>, <span style=\"color: #00af00; text-decoration-color: #00af00\">47</span>, <span style=\"color: #00af00; text-decoration-color: #00af00\">47</span>, <span style=\"color: #00af00; text-decoration-color: #00af00\">16</span>)     │         <span style=\"color: #00af00; text-decoration-color: #00af00\">1,168</span> │\n",
       "├─────────────────────────────────┼────────────────────────┼───────────────┤\n",
       "│ max_pooling2d_16 (<span style=\"color: #0087ff; text-decoration-color: #0087ff\">MaxPooling2D</span>) │ (<span style=\"color: #00d7ff; text-decoration-color: #00d7ff\">None</span>, <span style=\"color: #00af00; text-decoration-color: #00af00\">23</span>, <span style=\"color: #00af00; text-decoration-color: #00af00\">23</span>, <span style=\"color: #00af00; text-decoration-color: #00af00\">16</span>)     │             <span style=\"color: #00af00; text-decoration-color: #00af00\">0</span> │\n",
       "├─────────────────────────────────┼────────────────────────┼───────────────┤\n",
       "│ conv2d_17 (<span style=\"color: #0087ff; text-decoration-color: #0087ff\">Conv2D</span>)              │ (<span style=\"color: #00d7ff; text-decoration-color: #00d7ff\">None</span>, <span style=\"color: #00af00; text-decoration-color: #00af00\">21</span>, <span style=\"color: #00af00; text-decoration-color: #00af00\">21</span>, <span style=\"color: #00af00; text-decoration-color: #00af00\">16</span>)     │         <span style=\"color: #00af00; text-decoration-color: #00af00\">2,320</span> │\n",
       "├─────────────────────────────────┼────────────────────────┼───────────────┤\n",
       "│ max_pooling2d_17 (<span style=\"color: #0087ff; text-decoration-color: #0087ff\">MaxPooling2D</span>) │ (<span style=\"color: #00d7ff; text-decoration-color: #00d7ff\">None</span>, <span style=\"color: #00af00; text-decoration-color: #00af00\">10</span>, <span style=\"color: #00af00; text-decoration-color: #00af00\">10</span>, <span style=\"color: #00af00; text-decoration-color: #00af00\">16</span>)     │             <span style=\"color: #00af00; text-decoration-color: #00af00\">0</span> │\n",
       "├─────────────────────────────────┼────────────────────────┼───────────────┤\n",
       "│ flatten_5 (<span style=\"color: #0087ff; text-decoration-color: #0087ff\">Flatten</span>)             │ (<span style=\"color: #00d7ff; text-decoration-color: #00d7ff\">None</span>, <span style=\"color: #00af00; text-decoration-color: #00af00\">1600</span>)           │             <span style=\"color: #00af00; text-decoration-color: #00af00\">0</span> │\n",
       "├─────────────────────────────────┼────────────────────────┼───────────────┤\n",
       "│ dense_10 (<span style=\"color: #0087ff; text-decoration-color: #0087ff\">Dense</span>)                │ (<span style=\"color: #00d7ff; text-decoration-color: #00d7ff\">None</span>, <span style=\"color: #00af00; text-decoration-color: #00af00\">16</span>)             │        <span style=\"color: #00af00; text-decoration-color: #00af00\">25,616</span> │\n",
       "├─────────────────────────────────┼────────────────────────┼───────────────┤\n",
       "│ dense_11 (<span style=\"color: #0087ff; text-decoration-color: #0087ff\">Dense</span>)                │ (<span style=\"color: #00d7ff; text-decoration-color: #00d7ff\">None</span>, <span style=\"color: #00af00; text-decoration-color: #00af00\">5</span>)              │            <span style=\"color: #00af00; text-decoration-color: #00af00\">85</span> │\n",
       "└─────────────────────────────────┴────────────────────────┴───────────────┘\n",
       "</pre>\n"
      ],
      "text/plain": [
       "┏━━━━━━━━━━━━━━━━━━━━━━━━━━━━━━━━━┳━━━━━━━━━━━━━━━━━━━━━━━━┳━━━━━━━━━━━━━━━┓\n",
       "┃\u001b[1m \u001b[0m\u001b[1mLayer (type)                   \u001b[0m\u001b[1m \u001b[0m┃\u001b[1m \u001b[0m\u001b[1mOutput Shape          \u001b[0m\u001b[1m \u001b[0m┃\u001b[1m \u001b[0m\u001b[1m      Param #\u001b[0m\u001b[1m \u001b[0m┃\n",
       "┡━━━━━━━━━━━━━━━━━━━━━━━━━━━━━━━━━╇━━━━━━━━━━━━━━━━━━━━━━━━╇━━━━━━━━━━━━━━━┩\n",
       "│ conv2d_15 (\u001b[38;5;33mConv2D\u001b[0m)              │ (\u001b[38;5;45mNone\u001b[0m, \u001b[38;5;34m98\u001b[0m, \u001b[38;5;34m98\u001b[0m, \u001b[38;5;34m8\u001b[0m)      │           \u001b[38;5;34m224\u001b[0m │\n",
       "├─────────────────────────────────┼────────────────────────┼───────────────┤\n",
       "│ max_pooling2d_15 (\u001b[38;5;33mMaxPooling2D\u001b[0m) │ (\u001b[38;5;45mNone\u001b[0m, \u001b[38;5;34m49\u001b[0m, \u001b[38;5;34m49\u001b[0m, \u001b[38;5;34m8\u001b[0m)      │             \u001b[38;5;34m0\u001b[0m │\n",
       "├─────────────────────────────────┼────────────────────────┼───────────────┤\n",
       "│ conv2d_16 (\u001b[38;5;33mConv2D\u001b[0m)              │ (\u001b[38;5;45mNone\u001b[0m, \u001b[38;5;34m47\u001b[0m, \u001b[38;5;34m47\u001b[0m, \u001b[38;5;34m16\u001b[0m)     │         \u001b[38;5;34m1,168\u001b[0m │\n",
       "├─────────────────────────────────┼────────────────────────┼───────────────┤\n",
       "│ max_pooling2d_16 (\u001b[38;5;33mMaxPooling2D\u001b[0m) │ (\u001b[38;5;45mNone\u001b[0m, \u001b[38;5;34m23\u001b[0m, \u001b[38;5;34m23\u001b[0m, \u001b[38;5;34m16\u001b[0m)     │             \u001b[38;5;34m0\u001b[0m │\n",
       "├─────────────────────────────────┼────────────────────────┼───────────────┤\n",
       "│ conv2d_17 (\u001b[38;5;33mConv2D\u001b[0m)              │ (\u001b[38;5;45mNone\u001b[0m, \u001b[38;5;34m21\u001b[0m, \u001b[38;5;34m21\u001b[0m, \u001b[38;5;34m16\u001b[0m)     │         \u001b[38;5;34m2,320\u001b[0m │\n",
       "├─────────────────────────────────┼────────────────────────┼───────────────┤\n",
       "│ max_pooling2d_17 (\u001b[38;5;33mMaxPooling2D\u001b[0m) │ (\u001b[38;5;45mNone\u001b[0m, \u001b[38;5;34m10\u001b[0m, \u001b[38;5;34m10\u001b[0m, \u001b[38;5;34m16\u001b[0m)     │             \u001b[38;5;34m0\u001b[0m │\n",
       "├─────────────────────────────────┼────────────────────────┼───────────────┤\n",
       "│ flatten_5 (\u001b[38;5;33mFlatten\u001b[0m)             │ (\u001b[38;5;45mNone\u001b[0m, \u001b[38;5;34m1600\u001b[0m)           │             \u001b[38;5;34m0\u001b[0m │\n",
       "├─────────────────────────────────┼────────────────────────┼───────────────┤\n",
       "│ dense_10 (\u001b[38;5;33mDense\u001b[0m)                │ (\u001b[38;5;45mNone\u001b[0m, \u001b[38;5;34m16\u001b[0m)             │        \u001b[38;5;34m25,616\u001b[0m │\n",
       "├─────────────────────────────────┼────────────────────────┼───────────────┤\n",
       "│ dense_11 (\u001b[38;5;33mDense\u001b[0m)                │ (\u001b[38;5;45mNone\u001b[0m, \u001b[38;5;34m5\u001b[0m)              │            \u001b[38;5;34m85\u001b[0m │\n",
       "└─────────────────────────────────┴────────────────────────┴───────────────┘\n"
      ]
     },
     "metadata": {},
     "output_type": "display_data"
    },
    {
     "data": {
      "text/html": [
       "<pre style=\"white-space:pre;overflow-x:auto;line-height:normal;font-family:Menlo,'DejaVu Sans Mono',consolas,'Courier New',monospace\"><span style=\"font-weight: bold\"> Total params: </span><span style=\"color: #00af00; text-decoration-color: #00af00\">29,413</span> (114.89 KB)\n",
       "</pre>\n"
      ],
      "text/plain": [
       "\u001b[1m Total params: \u001b[0m\u001b[38;5;34m29,413\u001b[0m (114.89 KB)\n"
      ]
     },
     "metadata": {},
     "output_type": "display_data"
    },
    {
     "data": {
      "text/html": [
       "<pre style=\"white-space:pre;overflow-x:auto;line-height:normal;font-family:Menlo,'DejaVu Sans Mono',consolas,'Courier New',monospace\"><span style=\"font-weight: bold\"> Trainable params: </span><span style=\"color: #00af00; text-decoration-color: #00af00\">29,413</span> (114.89 KB)\n",
       "</pre>\n"
      ],
      "text/plain": [
       "\u001b[1m Trainable params: \u001b[0m\u001b[38;5;34m29,413\u001b[0m (114.89 KB)\n"
      ]
     },
     "metadata": {},
     "output_type": "display_data"
    },
    {
     "data": {
      "text/html": [
       "<pre style=\"white-space:pre;overflow-x:auto;line-height:normal;font-family:Menlo,'DejaVu Sans Mono',consolas,'Courier New',monospace\"><span style=\"font-weight: bold\"> Non-trainable params: </span><span style=\"color: #00af00; text-decoration-color: #00af00\">0</span> (0.00 B)\n",
       "</pre>\n"
      ],
      "text/plain": [
       "\u001b[1m Non-trainable params: \u001b[0m\u001b[38;5;34m0\u001b[0m (0.00 B)\n"
      ]
     },
     "metadata": {},
     "output_type": "display_data"
    }
   ],
   "source": [
    "model =create_simple_cnn(input_shape, num_classes)\n",
    "model.summary()"
   ]
  },
  {
   "cell_type": "code",
   "execution_count": 61,
   "metadata": {},
   "outputs": [
    {
     "name": "stdout",
     "output_type": "stream",
     "text": [
      "Epoch 1/10\n",
      "\u001b[1m215/215\u001b[0m \u001b[32m━━━━━━━━━━━━━━━━━━━━\u001b[0m\u001b[37m\u001b[0m \u001b[1m6s\u001b[0m 18ms/step - accuracy: 0.3347 - loss: 1.4951 - val_accuracy: 0.6128 - val_loss: 1.1028\n",
      "Epoch 2/10\n",
      "\u001b[1m215/215\u001b[0m \u001b[32m━━━━━━━━━━━━━━━━━━━━\u001b[0m\u001b[37m\u001b[0m \u001b[1m3s\u001b[0m 14ms/step - accuracy: 0.6502 - loss: 0.9533 - val_accuracy: 0.7901 - val_loss: 0.5806\n",
      "Epoch 3/10\n",
      "\u001b[1m215/215\u001b[0m \u001b[32m━━━━━━━━━━━━━━━━━━━━\u001b[0m\u001b[37m\u001b[0m \u001b[1m3s\u001b[0m 15ms/step - accuracy: 0.8112 - loss: 0.5504 - val_accuracy: 0.8558 - val_loss: 0.4435\n",
      "Epoch 4/10\n",
      "\u001b[1m215/215\u001b[0m \u001b[32m━━━━━━━━━━━━━━━━━━━━\u001b[0m\u001b[37m\u001b[0m \u001b[1m3s\u001b[0m 14ms/step - accuracy: 0.8610 - loss: 0.4018 - val_accuracy: 0.8837 - val_loss: 0.3343\n",
      "Epoch 5/10\n",
      "\u001b[1m215/215\u001b[0m \u001b[32m━━━━━━━━━━━━━━━━━━━━\u001b[0m\u001b[37m\u001b[0m \u001b[1m5s\u001b[0m 21ms/step - accuracy: 0.8946 - loss: 0.2992 - val_accuracy: 0.8866 - val_loss: 0.3150\n",
      "Epoch 6/10\n",
      "\u001b[1m215/215\u001b[0m \u001b[32m━━━━━━━━━━━━━━━━━━━━\u001b[0m\u001b[37m\u001b[0m \u001b[1m4s\u001b[0m 18ms/step - accuracy: 0.9030 - loss: 0.2732 - val_accuracy: 0.9116 - val_loss: 0.2609\n",
      "Epoch 7/10\n",
      "\u001b[1m215/215\u001b[0m \u001b[32m━━━━━━━━━━━━━━━━━━━━\u001b[0m\u001b[37m\u001b[0m \u001b[1m3s\u001b[0m 15ms/step - accuracy: 0.9056 - loss: 0.2361 - val_accuracy: 0.9215 - val_loss: 0.2291\n",
      "Epoch 8/10\n",
      "\u001b[1m215/215\u001b[0m \u001b[32m━━━━━━━━━━━━━━━━━━━━\u001b[0m\u001b[37m\u001b[0m \u001b[1m3s\u001b[0m 13ms/step - accuracy: 0.9182 - loss: 0.2020 - val_accuracy: 0.9238 - val_loss: 0.2142\n",
      "Epoch 9/10\n",
      "\u001b[1m215/215\u001b[0m \u001b[32m━━━━━━━━━━━━━━━━━━━━\u001b[0m\u001b[37m\u001b[0m \u001b[1m3s\u001b[0m 14ms/step - accuracy: 0.9285 - loss: 0.1747 - val_accuracy: 0.9302 - val_loss: 0.1987\n",
      "Epoch 10/10\n",
      "\u001b[1m215/215\u001b[0m \u001b[32m━━━━━━━━━━━━━━━━━━━━\u001b[0m\u001b[37m\u001b[0m \u001b[1m3s\u001b[0m 14ms/step - accuracy: 0.9407 - loss: 0.1491 - val_accuracy: 0.9302 - val_loss: 0.2108\n",
      "\u001b[1m68/68\u001b[0m \u001b[32m━━━━━━━━━━━━━━━━━━━━\u001b[0m\u001b[37m\u001b[0m \u001b[1m1s\u001b[0m 7ms/step - accuracy: 0.9192 - loss: 0.2265\n",
      "Loss sur les données de test: 0.20013250410556793\n",
      "Précision sur les données de test: 0.9251511096954346\n"
     ]
    }
   ],
   "source": [
    "# Entraîner le modèle en utilisant à la fois les données d'entraînement et de validation\n",
    "history = model.fit(X_train, Y_train, epochs=10, batch_size=32, validation_data=(X_val, Y_val))\n",
    "\n",
    "# Évaluation de la performance du modèle sur les données de test\n",
    "loss, accuracy = model.evaluate(X_test, Y_test)\n",
    "print(\"Loss sur les données de test:\", loss)\n",
    "print(\"Précision sur les données de test:\", accuracy)\n"
   ]
  },
  {
   "cell_type": "code",
   "execution_count": 62,
   "metadata": {},
   "outputs": [],
   "source": [
    "# Enregistrer le modèle\n",
    "model.save(\"mon_model.keras\")\n"
   ]
  },
  {
   "cell_type": "code",
   "execution_count": 63,
   "metadata": {},
   "outputs": [
    {
     "data": {
      "image/png": "[encoded data removed]",
      "text/plain": [
       "<Figure size 640x480 with 1 Axes>"
      ]
     },
     "metadata": {},
     "output_type": "display_data"
    },
    {
     "data": {
      "image/png": "[encoded data removed]",
      "text/plain": [
       "<Figure size 640x480 with 1 Axes>"
      ]
     },
     "metadata": {},
     "output_type": "display_data"
    }
   ],
   "source": [
    "import matplotlib.pyplot as plt\n",
    "\n",
    "# Extraire l'historique de l'entraînement\n",
    "train_loss = history.history['loss']\n",
    "val_loss = history.history['val_loss']\n",
    "train_accuracy = history.history['accuracy']\n",
    "val_accuracy = history.history['val_accuracy']\n",
    "\n",
    "# Tracer les courbes de perte\n",
    "plt.plot(train_loss, label='Training Loss')\n",
    "plt.plot(val_loss, label='Validation Loss')\n",
    "plt.title('Training and Validation Loss')\n",
    "plt.xlabel('Epochs')\n",
    "plt.ylabel('Loss')\n",
    "plt.legend()\n",
    "plt.show()\n",
    "\n",
    "# Tracer les courbes d'exactitude\n",
    "plt.plot(train_accuracy, label='Training Accuracy')\n",
    "plt.plot(val_accuracy, label='Validation Accuracy')\n",
    "plt.title('Training and Validation Accuracy')\n",
    "plt.xlabel('Epochs')\n",
    "plt.ylabel('Accuracy')\n",
    "plt.legend()\n",
    "plt.show()\n"
   ]
  },
  {
   "cell_type": "code",
   "execution_count": 64,
   "metadata": {},
   "outputs": [
    {
     "name": "stdout",
     "output_type": "stream",
     "text": [
      "\u001b[1m68/68\u001b[0m \u001b[32m━━━━━━━━━━━━━━━━━━━━\u001b[0m\u001b[37m\u001b[0m \u001b[1m1s\u001b[0m 8ms/step\n",
      "[[ 40   5  50   0  13]\n",
      " [  1 296  13   4   0]\n",
      " [ 11  23 406   3   6]\n",
      " [  9   9   4 582   2]\n",
      " [  1   1   6   0 666]]\n"
     ]
    }
   ],
   "source": [
    "from sklearn.metrics import confusion_matrix\n",
    "import numpy as np\n",
    "\n",
    "# Prédire les classes pour les données de test\n",
    "Y_pred = model.predict(X_test)\n",
    "\n",
    "# Convertir les probabilités prédites en classes (en prenant l'indice de la valeur maximale)\n",
    "Y_pred_classes = np.argmax(Y_pred, axis=1)\n",
    "\n",
    "# Convertir les étiquettes réelles des données de test en classes\n",
    "Y_true = np.argmax(Y_test, axis=1)\n",
    "\n",
    "# Créer la matrice de confusion\n",
    "confusion_mtx = confusion_matrix(Y_true, Y_pred_classes)\n",
    "\n",
    "# Afficher la matrice de confusion\n",
    "print(confusion_mtx)\n"
   ]
  },
  {
   "cell_type": "code",
   "execution_count": 65,
   "metadata": {},
   "outputs": [],
   "source": [
    "#l semble que votre modèle apprend de manière appropriée sans surajustement apparent, ce qui est une bonne nouvelle ! \n",
    "# Les courbes de perte diminuant progressivement et les courbes d'exactitude augmentant progressivement sur les ensembles d'entraînement\n",
    "# et de validation indiquent que votre modèle apprend efficacement les motifs dans les données sans surajustement excessif."
   ]
  },
  {
   "cell_type": "code",
   "execution_count": 67,
   "metadata": {},
   "outputs": [
    {
     "name": "stdout",
     "output_type": "stream",
     "text": [
      "\u001b[1m1/1\u001b[0m \u001b[32m━━━━━━━━━━━━━━━━━━━━\u001b[0m\u001b[37m\u001b[0m \u001b[1m0s\u001b[0m 16ms/step\n",
      "\n",
      "Images with their predictions:\n",
      "Image 1: C:/Users/MSI/Desktop/images_teste/turning_3.jpg, Prediction: turning\n",
      "Image 2: C:/Users/MSI/Desktop/images_teste/talking_3.jpg, Prediction: texting_phone\n",
      "Image 3: C:/Users/MSI/Desktop/images_teste/texting_5.jpg, Prediction: turning\n",
      "Image 4: C:/Users/MSI/Desktop/images_teste/safe_3.jpg, Prediction: texting_phone\n",
      "Image 5: C:/Users/MSI/Desktop/images_teste/other_3.jpg, Prediction: talking_phone\n",
      "Image 6: C:/Users/MSI/Desktop/images_teste/talking_4.jpg, Prediction: turning\n",
      "Image 7: C:/Users/MSI/Desktop/images_teste/safe_4.jpg, Prediction: texting_phone\n",
      "Image 8: C:/Users/MSI/Desktop/images_teste/other_1.jpg, Prediction: safe_driving\n",
      "Image 9: C:/Users/MSI/Desktop/images_teste/safe_1.jpg, Prediction: talking_phone\n",
      "Image 10: C:/Users/MSI/Desktop/images_teste/safe_2.jpg, Prediction: turning\n",
      "Image 11: C:/Users/MSI/Desktop/images_teste/talking_2.jpg, Prediction: turning\n",
      "Image 12: C:/Users/MSI/Desktop/images_teste/talking_1.jpg, Prediction: safe_driving\n",
      "Image 13: C:/Users/MSI/Desktop/images_teste/other_2.jpg, Prediction: other_activities\n",
      "Image 14: C:/Users/MSI/Desktop/images_teste/texting_1.jpg, Prediction: turning\n",
      "Image 15: C:/Users/MSI/Desktop/images_teste/texting_3.jpg, Prediction: turning\n",
      "Image 16: C:/Users/MSI/Desktop/images_teste/other_4.jpg, Prediction: turning\n",
      "Image 17: C:/Users/MSI/Desktop/images_teste/other_5.jpg, Prediction: turning\n",
      "Image 18: C:/Users/MSI/Desktop/images_teste/talking_5.jpg, Prediction: safe_driving\n",
      "Image 19: C:/Users/MSI/Desktop/images_teste/safe_5.jpg, Prediction: turning\n",
      "Image 20: C:/Users/MSI/Desktop/images_teste/turning_2.jpg, Prediction: talking_phone\n",
      "Image 21: C:/Users/MSI/Desktop/images_teste/turning_4.jpg, Prediction: turning\n",
      "Image 22: C:/Users/MSI/Desktop/images_teste/turning_5.jpg, Prediction: safe_driving\n",
      "Image 23: C:/Users/MSI/Desktop/images_teste/texting_2.jpg, Prediction: turning\n",
      "Image 24: C:/Users/MSI/Desktop/images_teste/turning_1.jpg, Prediction: talking_phone\n",
      "Accuracy: 0.125\n"
     ]
    }
   ],
   "source": [
    "import os\n",
    "import cv2\n",
    "import numpy as np\n",
    "from sklearn.metrics import accuracy_score\n",
    "\n",
    "# Define the folder path containing the new images\n",
    "folder_path = \"C:/Users/MSI/Desktop/images_teste/\"\n",
    "\n",
    "# List to store the full paths of all images in the folder\n",
    "installed_images_paths = []\n",
    "\n",
    "# Iterate over all files in the folder\n",
    "for filename in os.listdir(folder_path):\n",
    "    # Check if the file is an image\n",
    "    if filename.endswith(('.jpg', '.jpeg', '.png', '.bmp')):\n",
    "        # Construct the full path and add it to the list\n",
    "        image_path = os.path.join(folder_path, filename)\n",
    "        installed_images_paths.append(image_path)\n",
    "\n",
    "# Shuffle the list of image paths randomly\n",
    "random.shuffle(installed_images_paths)\n",
    "\n",
    "# Load and preprocess the images\n",
    "installed_images = []\n",
    "image_size = (100, 100)\n",
    "\n",
    "for image_path in installed_images_paths:\n",
    "    image = cv2.imread(image_path)\n",
    "    if image is not None:  # Check if the image was loaded successfully\n",
    "        resized_image = cv2.resize(image, image_size)\n",
    "        normalized_image = resized_image / 255.0  # Normalization\n",
    "        installed_images.append(normalized_image)\n",
    "    else:\n",
    "        print(f\"Skipping {image_path} due to read error\")\n",
    "\n",
    "if len(installed_images) == 0:\n",
    "    print(\"No valid images found in the specified folder.\")\n",
    "else:\n",
    "    # Convert to numpy array\n",
    "    installed_images = np.array(installed_images)\n",
    "\n",
    "    # Make predictions on the installed images\n",
    "    predictions = model.predict(installed_images)\n",
    "    # Get the predicted classes for each image\n",
    "    predicted_classes = np.argmax(predictions, axis=1)\n",
    "    # List to store predicted labels for each image\n",
    "    predicted_labels = [classes[pred_class] for pred_class in predicted_classes]\n",
    "\n",
    "    # Display images with their predictions\n",
    "    print(\"\\nImages with their predictions:\")\n",
    "    for idx, image_path in enumerate(installed_images_paths):\n",
    "        prediction = classes[predicted_classes[idx]]  # Use classes list to map predicted class index to label\n",
    "        predicted_labels.append(prediction)\n",
    "        print(f\"Image {idx + 1}: {image_path}, Prediction: {prediction}\")\n",
    "\n",
    "    # Extract file names from true labels (full file paths)\n",
    "    true_file_names = [os.path.basename(image_path).split('.')[0] for image_path in installed_images_paths]\n",
    "    # Create a list of tuples containing the true file names and their corresponding predicted labels\n",
    "    true_predicted_pairs = list(zip(true_file_names, predicted_labels))\n",
    "    # Initialize a counter for correct predictions\n",
    "    correct_predictions = 0\n",
    "\n",
    "    # Iterate over the list of true-predicted pairs\n",
    "    for true_file_name, predicted_label in true_predicted_pairs:\n",
    "        # Split the true file name and predicted label to get the first word\n",
    "        true_base_name = true_file_name.split('_')[0]\n",
    "        predicted_base_name = predicted_label.split('_')[0]\n",
    "        # Check if the predicted label matches the true base name\n",
    "        if true_base_name == predicted_base_name:\n",
    "            correct_predictions += 1\n",
    "\n",
    "    # Calculate accuracy\n",
    "    accuracy = correct_predictions / len(true_predicted_pairs)\n",
    "    print(\"Accuracy:\", accuracy)"
   ]
  },
  {
   "cell_type": "code",
   "execution_count": null,
   "metadata": {},
   "outputs": [],
   "source": []
  }
 ],
 "metadata": {
  "kernelspec": {
   "display_name": "Python 3",
   "language": "python",
   "name": "python3"
  },
  "language_info": {
   "codemirror_mode": {
    "name": "ipython",
    "version": 3
   },
   "file_extension": ".py",
   "mimetype": "text/x-python",
   "name": "python",
   "nbconvert_exporter": "python",
   "pygments_lexer": "ipython3",
   "version": "3.12.2"
  }
 },
 "nbformat": 4,
 "nbformat_minor": 2
}
